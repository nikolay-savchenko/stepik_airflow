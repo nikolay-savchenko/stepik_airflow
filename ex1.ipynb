{
 "cells": [
  {
   "cell_type": "code",
   "execution_count": 1,
   "id": "be8b54e8",
   "metadata": {},
   "outputs": [],
   "source": [
    "import pandas as pd\n",
    "import sqlite3"
   ]
  },
  {
   "cell_type": "code",
   "execution_count": 2,
   "id": "198d1b32",
   "metadata": {},
   "outputs": [
    {
     "name": "stdout",
     "output_type": "stream",
     "text": [
      "База данных создана и успешно подключена к SQLite\n",
      "Версия базы данных SQLite:  [('3.35.4',)]\n"
     ]
    }
   ],
   "source": [
    "\n",
    "try:\n",
    "    sqlite_connection = sqlite3.connect('sqlite_python.db')\n",
    "    cursor = sqlite_connection.cursor()\n",
    "    print(\"База данных создана и успешно подключена к SQLite\")\n",
    "\n",
    "    sqlite_select_query = \"select sqlite_version();\"\n",
    "    cursor.execute(sqlite_select_query)\n",
    "    record = cursor.fetchall()\n",
    "    print(\"Версия базы данных SQLite: \", record)\n",
    "    cursor.close()\n",
    "\n",
    "except sqlite3.Error as error:\n",
    "    print(\"Ошибка при подключении к sqlite\", error)\n"
   ]
  },
  {
   "cell_type": "code",
   "execution_count": 3,
   "id": "a789c04e",
   "metadata": {},
   "outputs": [],
   "source": [
    "def extract_currency(date):\n",
    "    \n",
    "    url = f'https://api.exchangerate.host/timeseries?start_date={date}&end_date={date}&base=EUR&symbols=USD&format=csv'\n",
    "    data = pd.read_csv(url)\n",
    "    return data"
   ]
  },
  {
   "cell_type": "code",
   "execution_count": 4,
   "id": "b275840f",
   "metadata": {},
   "outputs": [],
   "source": [
    "# Напишите функцию которая скачивает данные с гитхаба\n",
    "# Функция принимает на вход дату\n",
    "# Функция должна вернуть список словарей или можно использовать можно использоват pandas.read_csv()\n",
    "\n",
    "# ссылка на гитхаб с файлами - https://github.com/dm-novikov/stepik_airflow_course/tree/main/data_new\\\n",
    "\n",
    "date='2021-01-04'\n",
    "\n",
    "def extract_data(date):\n",
    "    url = f'https://raw.githubusercontent.com/dm-novikov/stepik_airflow_course/main/data_new/{date}.csv'\n",
    "    data = pd.read_csv(url)\n",
    "    return data\n"
   ]
  },
  {
   "cell_type": "code",
   "execution_count": 5,
   "id": "eb7ad6a8",
   "metadata": {},
   "outputs": [],
   "source": [
    "# Напишите функцию которая принимает на вход список словарей\n",
    "# и загружает в табличку в sqlite, можно использоват pandas.to_sql()\n",
    "\n",
    "def insert_to_db(data, table_name):\n",
    "    data.to_sql(table_name, sqlite_connection, if_exists='replace', index=False)"
   ]
  },
  {
   "cell_type": "code",
   "execution_count": 6,
   "id": "be5e9c27",
   "metadata": {},
   "outputs": [],
   "source": [
    "# Напишите функцию которая выполнит SQL запрос к базу данных\n",
    "# Здесь удобно использовать sqlalchemy или https://pythonru.com/biblioteki/vvedenie-v-sqlite-python\n",
    "# Если выполняется select ... то функция должна возвращать результат (не None)\n",
    "# Если используется внутренняя операция например truncate table, insert into select ... то возвращает None\n",
    "# data = sql_query(sql=\"select * from table\") -> [(1, 2, 3), (4, 5, 6) ...]\n",
    "# sql_query(\"truncate table\") -> None\n",
    "def sql_query(sql):\n",
    "  cursor = sqlite_connection.cursor()\n",
    "  cursor.execute(sql)\n",
    "  cursor.close()\n"
   ]
  },
  {
   "cell_type": "code",
   "execution_count": 7,
   "id": "f00574ce",
   "metadata": {},
   "outputs": [],
   "source": [
    "# Запустите ваш код в функции main\n",
    "\n",
    "# Напишите генерацию дат, так чтобы у вас получился список\n",
    "# 2021-01-02, 2021-01-03 ... etc\n",
    "# Нужны даты с 2021-01-01 по 2021-01-04\n",
    "\n",
    "dates_list = ['2021-01-04']\n",
    "\n",
    "def main(date):\n",
    "  \n",
    "  # Выгружаем данные по валютам и из источника\n",
    "  currency = extract_currency(date)\n",
    "  data = extract_data(date)\n",
    "\n",
    "  # Создайте необходимые таблицы если это нужно\n",
    "  # 'currency', 'data' и 'join_data (таблица с объединенными данными)\n",
    "  # sql_query() \n",
    "  # ...\n",
    "  # ...\n",
    "  # ...\n",
    "\n",
    "  # Вставляем данные в БД\n",
    "  # У вас долнжо получиться 2 таблицы CURRENCY, DATA\n",
    "  insert_to_db(currency, 'currency')\n",
    "  insert_to_db(data, 'data')\n",
    "\n",
    "  # Объединение данных в отдельную таблицу JOIN_DATA\n",
    "  # CURRENCY, DATA объединить через JOIN по дате и валюте\n",
    "  # Используйте insert into select ... inner join ...\n",
    "  # И соответственно создать таблицу для этого\n",
    "  sql_query('create table JOIN_DATA as select a.*, b.* from CURRENCY a inner join data b on a.date=b.date')\n",
    "\n",
    "  # Очистка временных таблиц CURRENCY, DATA\n",
    "  # Это те таблицы куда произошла вставка данных\n",
    "  # Используйте truncate\n",
    "  # sql_query()\n",
    "\n",
    "  # Получение данных из таблицы JOIN_DATA за конкретный день\n",
    "  # Используйте date при формировании запроса select * from ... where date ='...'\n",
    "  # report = sql_query()\n",
    "\n",
    "# Пройдемся по списку дат и выполним скрипт\n",
    "for date in dates_list:\n",
    "  main(date)"
   ]
  },
  {
   "cell_type": "code",
   "execution_count": 9,
   "id": "34155283",
   "metadata": {},
   "outputs": [
    {
     "name": "stdout",
     "output_type": "stream",
     "text": [
      "[('2021-01-04', 'USD', '1,225061', 'EUR', '2021-01-04', '2021-01-04', 'EUR', 20, '2021-01-04'), ('2021-01-04', 'USD', '1,225061', 'EUR', '2021-01-04', '2021-01-04', 'EUR', 33, '2021-01-04'), ('2021-01-04', 'USD', '1,225061', 'EUR', '2021-01-04', '2021-01-04', 'EUR', 38, '2021-01-04'), ('2021-01-04', 'USD', '1,225061', 'EUR', '2021-01-04', '2021-01-04', 'EUR', 39, '2021-01-04'), ('2021-01-04', 'USD', '1,225061', 'EUR', '2021-01-04', '2021-01-04', 'EUR', 51, '2021-01-04'), ('2021-01-04', 'USD', '1,225061', 'EUR', '2021-01-04', '2021-01-04', 'EUR', 57, '2021-01-04'), ('2021-01-04', 'USD', '1,225061', 'EUR', '2021-01-04', '2021-01-04', 'EUR', 68, '2021-01-04'), ('2021-01-04', 'USD', '1,225061', 'EUR', '2021-01-04', '2021-01-04', 'EUR', 88, '2021-01-04'), ('2021-01-04', 'USD', '1,225061', 'EUR', '2021-01-04', '2021-01-04', 'EUR', 90, '2021-01-04')]\n"
     ]
    }
   ],
   "source": [
    "try:\n",
    "    cursor = sqlite_connection.cursor()\n",
    "    sqlite_select_query = \"select * from JOIN_DATA;\"\n",
    "    cursor.execute(sqlite_select_query)\n",
    "    record = cursor.fetchall()\n",
    "    print( record)\n",
    "    cursor.close()\n",
    "\n",
    "except sqlite3.Error as error:\n",
    "    print(\"Ошибка при подключении к sqlite\", error)"
   ]
  },
  {
   "cell_type": "code",
   "execution_count": null,
   "id": "7315f580",
   "metadata": {},
   "outputs": [],
   "source": []
  },
  {
   "cell_type": "code",
   "execution_count": null,
   "id": "a1e44084",
   "metadata": {},
   "outputs": [],
   "source": []
  },
  {
   "cell_type": "code",
   "execution_count": null,
   "id": "53cf72f8",
   "metadata": {},
   "outputs": [],
   "source": []
  },
  {
   "cell_type": "code",
   "execution_count": null,
   "id": "c2b9f19a",
   "metadata": {},
   "outputs": [],
   "source": []
  },
  {
   "cell_type": "code",
   "execution_count": null,
   "id": "fb9d7843",
   "metadata": {},
   "outputs": [],
   "source": []
  }
 ],
 "metadata": {
  "kernelspec": {
   "display_name": "Python 3",
   "language": "python",
   "name": "python3"
  },
  "language_info": {
   "codemirror_mode": {
    "name": "ipython",
    "version": 3
   },
   "file_extension": ".py",
   "mimetype": "text/x-python",
   "name": "python",
   "nbconvert_exporter": "python",
   "pygments_lexer": "ipython3",
   "version": "3.8.8"
  }
 },
 "nbformat": 4,
 "nbformat_minor": 5
}
